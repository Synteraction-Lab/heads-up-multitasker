{
 "cells": [
  {
   "cell_type": "code",
   "execution_count": 1,
   "id": "05800cf9",
   "metadata": {},
   "outputs": [
    {
     "name": "stdout",
     "output_type": "stream",
     "text": [
      "Requirement already satisfied: opencv-python in d:\\users\\91584\\anaconda3\\lib\\site-packages (4.5.5.64)\n",
      "Requirement already satisfied: Pillow in d:\\users\\91584\\anaconda3\\lib\\site-packages (8.2.0)\n",
      "Requirement already satisfied: numpy>=1.14.5 in d:\\users\\91584\\anaconda3\\lib\\site-packages (from opencv-python) (1.20.1)\n",
      "Requirement already satisfied: opencv-python in d:\\users\\91584\\anaconda3\\lib\\site-packages (4.5.5.64)\n",
      "Requirement already satisfied: numpy>=1.17.3 in d:\\users\\91584\\anaconda3\\lib\\site-packages (from opencv-python) (1.20.1)\n"
     ]
    }
   ],
   "source": [
    "!pip install opencv-python Pillow\n",
    "!pip install opencv-python"
   ]
  },
  {
   "cell_type": "code",
   "execution_count": 2,
   "id": "9e5f2b23",
   "metadata": {},
   "outputs": [],
   "source": [
    "import numpy as np\n",
    "from scipy.ndimage import gaussian_filter\n",
    "\n",
    "class FoveateVision:\n",
    "\n",
    "    def __init__(self, fovy, sigma=1):\n",
    "        self._cam_eye_fovy = fovy\n",
    "        self._sigma = sigma\n",
    "\n",
    "    def foveate(self, img, foveal_center=None):\n",
    "        \"\"\"\n",
    "        Foveate the image, note that the shape of image has to be (height, width, 3)\n",
    "        \"\"\"\n",
    "\n",
    "        # Define the foveal region\n",
    "        fov = self._cam_eye_fovy\n",
    "        foveal_size = 15\n",
    "        foveal_pixels = int(foveal_size / 2 * img.shape[0] / fov)\n",
    "\n",
    "        if foveal_center is None:  # default to center if not provided\n",
    "            foveal_center = (img.shape[0] // 2, img.shape[1] // 2)\n",
    "\n",
    "        # Create a circular mask for the foveal region\n",
    "        y, x = np.ogrid[-foveal_center[0]:img.shape[0] - foveal_center[0], -foveal_center[1]:img.shape[1] - foveal_center[1]]\n",
    "        mask = x ** 2 + y ** 2 <= (foveal_pixels ** 2)\n",
    "\n",
    "        # Apply a Gaussian blur to each color channel separately\n",
    "        blurred = np.zeros_like(img)\n",
    "        for c in range(3):\n",
    "            blurred_channel = gaussian_filter(img[:, :, c], sigma=self._sigma)\n",
    "            blurred[:, :, c][~mask] = blurred_channel[~mask]\n",
    "\n",
    "        # Combine the original image and the blurred image\n",
    "        foveated = img.copy()\n",
    "        foveated[~mask] = blurred[~mask]\n",
    "\n",
    "        return foveated, foveal_center, foveal_pixels"
   ]
  },
  {
   "cell_type": "code",
   "execution_count": 8,
   "id": "e6cef8b7",
   "metadata": {},
   "outputs": [
    {
     "data": {
      "text/plain": [
       "True"
      ]
     },
     "execution_count": 8,
     "metadata": {},
     "output_type": "execute_result"
    }
   ],
   "source": [
    "import cv2\n",
    "\n",
    "# Plot the close one\n",
    "\n",
    "# Load the image using OpenCV\n",
    "img_cv = cv2.imread('readclose.jpg')\n",
    "\n",
    "# Convert the color space from BGR (default in OpenCV) to RGB\n",
    "img_rgb = cv2.cvtColor(img_cv, cv2.COLOR_BGR2RGB)\n",
    "\n",
    "# Now, img_rgb is your image array ready for processing\n",
    "img = img_rgb\n",
    "\n",
    "processor = FoveateVision(fovy=50, sigma=10)\n",
    "result, foveal_center, foveal_pixels = processor.foveate(img, foveal_center=(400, 540))\n",
    "\n",
    "# Draw a highlight circle around the fovea center using the returned foveal_center\n",
    "highlight_color = (39, 78, 19)  # RGB: White\n",
    "highlight_thickness = 2  # Thickness of 2 pixels\n",
    "cv2.circle(result, (foveal_center[-1], foveal_center[0]), foveal_pixels, highlight_color, highlight_thickness)\n",
    "\n",
    "# Convert the result back to BGR color space for saving with OpenCV\n",
    "result_bgr = cv2.cvtColor(result, cv2.COLOR_RGB2BGR)\n",
    "\n",
    "# Save the result using OpenCV\n",
    "cv2.imwrite('vision_close.png', result_bgr)"
   ]
  },
  {
   "cell_type": "code",
   "execution_count": 9,
   "id": "91a7af27",
   "metadata": {},
   "outputs": [
    {
     "data": {
      "text/plain": [
       "True"
      ]
     },
     "execution_count": 9,
     "metadata": {},
     "output_type": "execute_result"
    }
   ],
   "source": [
    "# Plot the far one\n",
    "\n",
    "# Load the image using OpenCV\n",
    "img_cv = cv2.imread('readfar.jpg')\n",
    "\n",
    "# Convert the color space from BGR (default in OpenCV) to RGB\n",
    "img_rgb = cv2.cvtColor(img_cv, cv2.COLOR_BGR2RGB)\n",
    "\n",
    "# Now, img_rgb is your image array ready for processing\n",
    "img = img_rgb\n",
    "\n",
    "processor = FoveateVision(fovy=75, sigma=10)\n",
    "result, foveal_center, foveal_pixels = processor.foveate(img, foveal_center=(145, 150))\n",
    "\n",
    "# Draw a highlight circle around the fovea center using the returned foveal_center\n",
    "highlight_color = (0, 0, 255)  # RGB: White\n",
    "highlight_thickness = 2  # Thickness of 2 pixels\n",
    "cv2.circle(result, (foveal_center[-1], foveal_center[0]), foveal_pixels, highlight_color, highlight_thickness)\n",
    "\n",
    "# Convert the result back to BGR color space for saving with OpenCV\n",
    "result_bgr = cv2.cvtColor(result, cv2.COLOR_RGB2BGR)\n",
    "\n",
    "# Save the result using OpenCV\n",
    "cv2.imwrite('vision_far.png', result_bgr)"
   ]
  },
  {
   "cell_type": "code",
   "execution_count": 43,
   "id": "d347bf4a",
   "metadata": {},
   "outputs": [
    {
     "data": {
      "text/plain": [
       "True"
      ]
     },
     "execution_count": 43,
     "metadata": {},
     "output_type": "execute_result"
    }
   ],
   "source": [
    "import cv2\n",
    "import numpy as np\n",
    "\n",
    "def draw_projected_arrow(img, start_point, end_point, arrowhead_length=30):\n",
    "    # Draw main shaft of the arrow\n",
    "    cv2.line(img, start_point, end_point, (255, 255, 255), thickness=3)\n",
    "    \n",
    "    # Calculate angle of the arrow direction\n",
    "    angle = np.arctan2(start_point[1] - end_point[1], start_point[0] - end_point[0])\n",
    "    \n",
    "    # Calculate points for the arrowhead\n",
    "    x1 = int(end_point[0] + arrowhead_length * np.cos(angle + np.pi/4))\n",
    "    y1 = int(end_point[1] + arrowhead_length * np.sin(angle + np.pi/4))\n",
    "    \n",
    "    x2 = int(end_point[0] + arrowhead_length * np.cos(angle - np.pi/4))\n",
    "    y2 = int(end_point[1] + arrowhead_length * np.sin(angle - np.pi/4))\n",
    "    \n",
    "    # Convert the points to int32\n",
    "    arrowhead_pts = np.array([end_point, (x1, y1), (x2, y2)], dtype=np.int32)\n",
    "    \n",
    "    # Draw arrowhead\n",
    "    cv2.polylines(img, [arrowhead_pts], isClosed=True, color=(255, 255, 255), thickness=3)\n",
    "\n",
    "# Load image\n",
    "img_cv = cv2.imread('readfar.jpg')\n",
    "img_rgb = cv2.cvtColor(img_cv, cv2.COLOR_BGR2RGB)\n",
    "img = img_rgb\n",
    "\n",
    "# Define start and end points for arrow\n",
    "start = (50, 300)\n",
    "end = (400, 100)\n",
    "\n",
    "# Draw projected arrow\n",
    "draw_projected_arrow(img, start, end)\n",
    "\n",
    "# Convert back to BGR and save\n",
    "result_bgr = cv2.cvtColor(img, cv2.COLOR_RGB2BGR)\n",
    "cv2.imwrite('arrow_projection.png', result_bgr)"
   ]
  },
  {
   "cell_type": "code",
   "execution_count": null,
   "id": "ceb0422f",
   "metadata": {},
   "outputs": [],
   "source": []
  }
 ],
 "metadata": {
  "kernelspec": {
   "display_name": "Python 3",
   "language": "python",
   "name": "python3"
  },
  "language_info": {
   "codemirror_mode": {
    "name": "ipython",
    "version": 3
   },
   "file_extension": ".py",
   "mimetype": "text/x-python",
   "name": "python",
   "nbconvert_exporter": "python",
   "pygments_lexer": "ipython3",
   "version": "3.8.8"
  }
 },
 "nbformat": 4,
 "nbformat_minor": 5
}
